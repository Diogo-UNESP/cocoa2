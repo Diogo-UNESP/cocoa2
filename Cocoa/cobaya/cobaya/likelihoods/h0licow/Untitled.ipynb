{
 "cells": [
  {
   "cell_type": "markdown",
   "id": "62df3890-8e99-4359-b76a-3bde0f17458b",
   "metadata": {},
   "source": [
    "# Tests"
   ]
  },
  {
   "cell_type": "code",
   "execution_count": 15,
   "id": "89be0fd2-6826-4c0d-a1ed-aa8318aae6a4",
   "metadata": {},
   "outputs": [],
   "source": [
    "from cobaya.model import get_model\n",
    "import sys\n",
    "import h0licowlike\n",
    "import numpy as np\n",
    "from h0licowlike import lenses"
   ]
  },
  {
   "cell_type": "code",
   "execution_count": 38,
   "id": "32695c9a-1d58-4d0d-aee9-4db639b9328e",
   "metadata": {},
   "outputs": [],
   "source": [
    "lens_redshifts = []\n",
    "source_redshifts = []\n",
    "for lens in lenses:\n",
    "    lens_redshifts.append(lens.zlens)\n",
    "    source_redshifts.append(lens.zsource)\n",
    "lens_redshifts = np.array(lens_redshifts)\n",
    "source_redshifts = np.array(source_redshifts)\n",
    "redshift_pairs = np.array(list(zip(lens_redshifts, source_redshifts)))\n",
    "all_redshifts = np.concatenate((lens_redshifts, source_redshifts))"
   ]
  },
  {
   "cell_type": "code",
   "execution_count": 39,
   "id": "80d496c2-a634-4550-b304-9d71215c5d33",
   "metadata": {},
   "outputs": [
    {
     "name": "stdout",
     "output_type": "stream",
     "text": [
      "[[0.6304 1.394 ]\n",
      " [0.295  0.654 ]\n",
      " [0.4546 1.693 ]\n",
      " [0.745  1.789 ]\n",
      " [0.6575 1.662 ]\n",
      " [0.311  1.722 ]]\n",
      "[0.6304 0.295  0.4546 0.745  0.6575 0.311  1.394  0.654  1.693  1.789\n",
      " 1.662  1.722 ]\n"
     ]
    }
   ],
   "source": [
    "print(redshift_pairs)\n",
    "print(all_redshifts)"
   ]
  },
  {
   "cell_type": "code",
   "execution_count": 44,
   "id": "b1f72e7a-225e-479c-a14d-b5def4d4f4c3",
   "metadata": {},
   "outputs": [],
   "source": [
    "info = {\n",
    "    'params': {\n",
    "        # Fixed\n",
    "        'ombh2': 0.022, 'omch2': 0.12, 'H0': 68, 'tau': 0.07,\n",
    "        'mnu': 0.06, 'nnu': 3.046,\n",
    "        # Sampled\n",
    "        'As': {'prior': {'min': 1e-9, 'max': 4e-9}, 'latex': 'A_s'},\n",
    "        'ns': {'prior': {'min': 0.9, 'max': 1.1}, 'latex': 'n_s'},\n",
    "        'noise_std_pixel': {\n",
    "            'prior': {'dist': 'norm', 'loc': 20, 'scale': 5},\n",
    "            'latex': r'\\sigma_\\mathrm{pix}'},\n",
    "        # Derived\n",
    "        },\n",
    "    'likelihood': {'strong_lensing_h0licow': {\n",
    "        \"external\": h0licowlike.log_prob_ddt,\n",
    "        # Declare required quantities!\n",
    "        \"requires\": {'angular_diameter_distance': {'z': all_redshifts},\n",
    "                     'angular_diameter_distance_2': {'z_pairs': redshift_pairs}\n",
    "                    },\n",
    "        }},\n",
    "    'theory': {'camb': {'stop_at_error': False}}\n",
    "    }"
   ]
  },
  {
   "cell_type": "code",
   "execution_count": 50,
   "id": "5fbf1ef8-5fb8-4e66-9c1e-e3f2a90eab1d",
   "metadata": {},
   "outputs": [],
   "source": [
    "info = {\n",
    "    'params': {\n",
    "        # Fixed\n",
    "        'ombh2': 0.022, 'omch2': 0.12, 'H0': 68, 'tau': 0.07,\n",
    "        'mnu': 0.06, 'nnu': 3.046,\n",
    "        # Sampled\n",
    "        'As': {'prior': {'min': 1e-9, 'max': 4e-9}, 'latex': 'A_s'},\n",
    "        'ns': {'prior': {'min': 0.9, 'max': 1.1}, 'latex': 'n_s'},\n",
    "        'noise_std_pixel': {\n",
    "            'prior': {'dist': 'norm', 'loc': 20, 'scale': 5},\n",
    "            'latex': r'\\sigma_\\mathrm{pix}'},\n",
    "        # Derived\n",
    "        'Map_Cl_at_500': {'latex': r'C_{500,\\,\\mathrm{map}}'}},\n",
    "    'likelihood': {'my_cl_like': {\n",
    "        \"external\": h0licowlike.log_prob_ddt,\n",
    "        # Declare required quantities!\n",
    "        \"requires\": {'Cl': {'tt': 1000}},\n",
    "        # Declare derived parameters!\n",
    "        \"output_params\": ['Map_Cl_at_500']}},\n",
    "    'theory': {'camb': {'stop_at_error': True}}}"
   ]
  },
  {
   "cell_type": "code",
   "execution_count": 51,
   "id": "c0d7e225-d80b-4857-8209-eb937b9217f7",
   "metadata": {},
   "outputs": [
    {
     "name": "stdout",
     "output_type": "stream",
     "text": [
      "[CAMB] Importing *auto-installed* CAMB (but defaulting to *global*).\n",
      "[camb] Initialized!\n",
      "[my_cl_like] Initialized external likelihood.\n"
     ]
    },
    {
     "ename": "KeyError",
     "evalue": "_manual",
     "output_type": "error",
     "traceback": [
      "\u001b[0;31m---------------------------------------------------------------------------\u001b[0m",
      "\u001b[0;31mKeyError\u001b[0m                                  Traceback (most recent call last)",
      "\u001b[0;32m/tmp/ipykernel_27439/1814740838.py\u001b[0m in \u001b[0;36m<module>\u001b[0;34m\u001b[0m\n\u001b[0;32m----> 1\u001b[0;31m \u001b[0mmodel\u001b[0m \u001b[0;34m=\u001b[0m \u001b[0mget_model\u001b[0m\u001b[0;34m(\u001b[0m\u001b[0minfo\u001b[0m\u001b[0;34m)\u001b[0m\u001b[0;34m\u001b[0m\u001b[0;34m\u001b[0m\u001b[0m\n\u001b[0m",
      "\u001b[0;32m~/cosmo/cocoa_all/open_cocoa2/Cocoa/cobaya/cobaya/model.py\u001b[0m in \u001b[0;36mget_model\u001b[0;34m(info_or_yaml_or_file, debug, stop_at_error, packages_path, override)\u001b[0m\n\u001b[1;32m   1352\u001b[0m                  \u001b[0mpackages_path\u001b[0m\u001b[0;34m=\u001b[0m\u001b[0minfo\u001b[0m\u001b[0;34m.\u001b[0m\u001b[0mget\u001b[0m\u001b[0;34m(\u001b[0m\u001b[0mpackages_path_input\u001b[0m\u001b[0;34m)\u001b[0m\u001b[0;34m,\u001b[0m\u001b[0;34m\u001b[0m\u001b[0;34m\u001b[0m\u001b[0m\n\u001b[1;32m   1353\u001b[0m                  \u001b[0mtiming\u001b[0m\u001b[0;34m=\u001b[0m\u001b[0mupdated_info\u001b[0m\u001b[0;34m.\u001b[0m\u001b[0mget\u001b[0m\u001b[0;34m(\u001b[0m\u001b[0;34m\"timing\"\u001b[0m\u001b[0;34m)\u001b[0m\u001b[0;34m,\u001b[0m\u001b[0;34m\u001b[0m\u001b[0;34m\u001b[0m\u001b[0m\n\u001b[0;32m-> 1354\u001b[0;31m                  stop_at_error=info.get(\"stop_at_error\", False))\n\u001b[0m\u001b[1;32m   1355\u001b[0m \u001b[0;34m\u001b[0m\u001b[0m\n\u001b[1;32m   1356\u001b[0m \u001b[0;34m\u001b[0m\u001b[0m\n",
      "\u001b[0;32m~/cosmo/cocoa_all/open_cocoa2/Cocoa/cobaya/cobaya/model.py\u001b[0m in \u001b[0;36m__init__\u001b[0;34m(self, info_params, info_likelihood, info_prior, info_theory, packages_path, timing, allow_renames, stop_at_error, post, skip_unused_theories, dropped_theory_params)\u001b[0m\n\u001b[1;32m    242\u001b[0m         \u001b[0;31m# Assign input/output parameters\u001b[0m\u001b[0;34m\u001b[0m\u001b[0;34m\u001b[0m\u001b[0;34m\u001b[0m\u001b[0m\n\u001b[1;32m    243\u001b[0m         \u001b[0mself\u001b[0m\u001b[0;34m.\u001b[0m\u001b[0m_assign_params\u001b[0m\u001b[0;34m(\u001b[0m\u001b[0minfo_likelihood\u001b[0m\u001b[0;34m,\u001b[0m \u001b[0minfo_theory\u001b[0m\u001b[0;34m,\u001b[0m \u001b[0mdropped_theory_params\u001b[0m\u001b[0;34m)\u001b[0m\u001b[0;34m\u001b[0m\u001b[0;34m\u001b[0m\u001b[0m\n\u001b[0;32m--> 244\u001b[0;31m         \u001b[0mself\u001b[0m\u001b[0;34m.\u001b[0m\u001b[0m_set_dependencies_and_providers\u001b[0m\u001b[0;34m(\u001b[0m\u001b[0mskip_unused_theories\u001b[0m\u001b[0;34m=\u001b[0m\u001b[0mskip_unused_theories\u001b[0m\u001b[0;34m)\u001b[0m\u001b[0;34m\u001b[0m\u001b[0;34m\u001b[0m\u001b[0m\n\u001b[0m\u001b[1;32m    245\u001b[0m         \u001b[0;31m# Add to the updated info some values that are only available after initialisation\u001b[0m\u001b[0;34m\u001b[0m\u001b[0;34m\u001b[0m\u001b[0;34m\u001b[0m\u001b[0m\n\u001b[1;32m    246\u001b[0m         self._updated_info = recursive_update(\n",
      "\u001b[0;32m~/cosmo/cocoa_all/open_cocoa2/Cocoa/cobaya/cobaya/model.py\u001b[0m in \u001b[0;36m_set_dependencies_and_providers\u001b[0;34m(self, manual_requirements, skip_unused_theories)\u001b[0m\n\u001b[1;32m    758\u001b[0m                         \u001b[0;31m# remove from list, or it will still fail in the next call too\u001b[0m\u001b[0;34m\u001b[0m\u001b[0;34m\u001b[0m\u001b[0;34m\u001b[0m\u001b[0m\n\u001b[1;32m    759\u001b[0m                         requirements[manual_theory] = [\n\u001b[0;32m--> 760\u001b[0;31m                             \u001b[0mreq\u001b[0m \u001b[0;32mfor\u001b[0m \u001b[0mreq\u001b[0m \u001b[0;32min\u001b[0m \u001b[0mrequirements\u001b[0m\u001b[0;34m[\u001b[0m\u001b[0mmanual_theory\u001b[0m\u001b[0;34m]\u001b[0m\u001b[0;34m\u001b[0m\u001b[0;34m\u001b[0m\u001b[0m\n\u001b[0m\u001b[1;32m    761\u001b[0m                             if req.name != requirement.name]\n\u001b[1;32m    762\u001b[0m                         raise LoggedError(self.log,\n",
      "\u001b[0;31mKeyError\u001b[0m: _manual"
     ]
    }
   ],
   "source": []
  }
 ],
 "metadata": {
  "kernelspec": {
   "display_name": "Python 3 (ipykernel)",
   "language": "python",
   "name": "python3"
  },
  "language_info": {
   "codemirror_mode": {
    "name": "ipython",
    "version": 3
   },
   "file_extension": ".py",
   "mimetype": "text/x-python",
   "name": "python",
   "nbconvert_exporter": "python",
   "pygments_lexer": "ipython3",
   "version": "3.7.12"
  }
 },
 "nbformat": 4,
 "nbformat_minor": 5
}
